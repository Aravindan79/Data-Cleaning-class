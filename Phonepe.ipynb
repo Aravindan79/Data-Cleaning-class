{
  "nbformat": 4,
  "nbformat_minor": 0,
  "metadata": {
    "colab": {
      "provenance": [],
      "include_colab_link": true
    },
    "kernelspec": {
      "name": "python3",
      "display_name": "Python 3"
    },
    "language_info": {
      "name": "python"
    }
  },
  "cells": [
    {
      "cell_type": "markdown",
      "metadata": {
        "id": "view-in-github",
        "colab_type": "text"
      },
      "source": [
        "<a href=\"https://colab.research.google.com/github/Aravindan79/Phonepe-Data/blob/main/Phonepe.ipynb\" target=\"_parent\"><img src=\"https://colab.research.google.com/assets/colab-badge.svg\" alt=\"Open In Colab\"/></a>"
      ]
    },
    {
      "cell_type": "code",
      "execution_count": 2,
      "metadata": {
        "id": "TvIQ_IGjnq4y",
        "colab": {
          "base_uri": "https://localhost:8080/"
        },
        "outputId": "8e564c40-e7e0-4006-ae32-a799391aa875"
      },
      "outputs": [
        {
          "output_type": "stream",
          "name": "stdout",
          "text": [
            "fatal: destination path 'pulse' already exists and is not an empty directory.\n"
          ]
        }
      ],
      "source": [
        "!git clone https://github.com/PhonePe/pulse.git"
      ]
    },
    {
      "cell_type": "code",
      "source": [
        "!pip install streamlit"
      ],
      "metadata": {
        "id": "oeYlY41nq8FW",
        "colab": {
          "base_uri": "https://localhost:8080/"
        },
        "outputId": "f3c48e0d-10f0-4b60-b8ac-68a59831aaaf"
      },
      "execution_count": 3,
      "outputs": [
        {
          "output_type": "stream",
          "name": "stdout",
          "text": [
            "Looking in indexes: https://pypi.org/simple, https://us-python.pkg.dev/colab-wheels/public/simple/\n",
            "Requirement already satisfied: streamlit in /usr/local/lib/python3.8/dist-packages (1.18.1)\n",
            "Requirement already satisfied: packaging>=14.1 in /usr/local/lib/python3.8/dist-packages (from streamlit) (23.0)\n",
            "Requirement already satisfied: pandas>=0.25 in /usr/local/lib/python3.8/dist-packages (from streamlit) (1.3.5)\n",
            "Requirement already satisfied: pydeck>=0.1.dev5 in /usr/local/lib/python3.8/dist-packages (from streamlit) (0.8.0)\n",
            "Requirement already satisfied: semver in /usr/local/lib/python3.8/dist-packages (from streamlit) (2.13.0)\n",
            "Requirement already satisfied: pyarrow>=4.0 in /usr/local/lib/python3.8/dist-packages (from streamlit) (9.0.0)\n",
            "Requirement already satisfied: typing-extensions>=3.10.0.0 in /usr/local/lib/python3.8/dist-packages (from streamlit) (4.4.0)\n",
            "Requirement already satisfied: watchdog in /usr/local/lib/python3.8/dist-packages (from streamlit) (2.2.1)\n",
            "Requirement already satisfied: validators>=0.2 in /usr/local/lib/python3.8/dist-packages (from streamlit) (0.20.0)\n",
            "Requirement already satisfied: python-dateutil in /usr/local/lib/python3.8/dist-packages (from streamlit) (2.8.2)\n",
            "Requirement already satisfied: toml in /usr/local/lib/python3.8/dist-packages (from streamlit) (0.10.2)\n",
            "Requirement already satisfied: pillow>=6.2.0 in /usr/local/lib/python3.8/dist-packages (from streamlit) (7.1.2)\n",
            "Requirement already satisfied: importlib-metadata>=1.4 in /usr/local/lib/python3.8/dist-packages (from streamlit) (6.0.0)\n",
            "Requirement already satisfied: requests>=2.4 in /usr/local/lib/python3.8/dist-packages (from streamlit) (2.25.1)\n",
            "Requirement already satisfied: tornado>=6.0.3 in /usr/local/lib/python3.8/dist-packages (from streamlit) (6.0.4)\n",
            "Requirement already satisfied: cachetools>=4.0 in /usr/local/lib/python3.8/dist-packages (from streamlit) (5.3.0)\n",
            "Requirement already satisfied: gitpython!=3.1.19 in /usr/local/lib/python3.8/dist-packages (from streamlit) (3.1.31)\n",
            "Requirement already satisfied: pympler>=0.9 in /usr/local/lib/python3.8/dist-packages (from streamlit) (1.0.1)\n",
            "Requirement already satisfied: rich>=10.11.0 in /usr/local/lib/python3.8/dist-packages (from streamlit) (13.3.1)\n",
            "Requirement already satisfied: blinker>=1.0.0 in /usr/local/lib/python3.8/dist-packages (from streamlit) (1.5)\n",
            "Requirement already satisfied: altair>=3.2.0 in /usr/local/lib/python3.8/dist-packages (from streamlit) (4.2.2)\n",
            "Requirement already satisfied: protobuf<4,>=3.12 in /usr/local/lib/python3.8/dist-packages (from streamlit) (3.19.6)\n",
            "Requirement already satisfied: numpy in /usr/local/lib/python3.8/dist-packages (from streamlit) (1.21.6)\n",
            "Requirement already satisfied: click>=7.0 in /usr/local/lib/python3.8/dist-packages (from streamlit) (7.1.2)\n",
            "Requirement already satisfied: tzlocal>=1.1 in /usr/local/lib/python3.8/dist-packages (from streamlit) (1.5.1)\n",
            "Requirement already satisfied: jinja2 in /usr/local/lib/python3.8/dist-packages (from altair>=3.2.0->streamlit) (2.11.3)\n",
            "Requirement already satisfied: toolz in /usr/local/lib/python3.8/dist-packages (from altair>=3.2.0->streamlit) (0.12.0)\n",
            "Requirement already satisfied: entrypoints in /usr/local/lib/python3.8/dist-packages (from altair>=3.2.0->streamlit) (0.4)\n",
            "Requirement already satisfied: jsonschema>=3.0 in /usr/local/lib/python3.8/dist-packages (from altair>=3.2.0->streamlit) (4.3.3)\n",
            "Requirement already satisfied: gitdb<5,>=4.0.1 in /usr/local/lib/python3.8/dist-packages (from gitpython!=3.1.19->streamlit) (4.0.10)\n",
            "Requirement already satisfied: zipp>=0.5 in /usr/local/lib/python3.8/dist-packages (from importlib-metadata>=1.4->streamlit) (3.12.1)\n",
            "Requirement already satisfied: pytz>=2017.3 in /usr/local/lib/python3.8/dist-packages (from pandas>=0.25->streamlit) (2022.7.1)\n",
            "Requirement already satisfied: six>=1.5 in /usr/local/lib/python3.8/dist-packages (from python-dateutil->streamlit) (1.15.0)\n",
            "Requirement already satisfied: idna<3,>=2.5 in /usr/local/lib/python3.8/dist-packages (from requests>=2.4->streamlit) (2.10)\n",
            "Requirement already satisfied: chardet<5,>=3.0.2 in /usr/local/lib/python3.8/dist-packages (from requests>=2.4->streamlit) (4.0.0)\n",
            "Requirement already satisfied: certifi>=2017.4.17 in /usr/local/lib/python3.8/dist-packages (from requests>=2.4->streamlit) (2022.12.7)\n",
            "Requirement already satisfied: urllib3<1.27,>=1.21.1 in /usr/local/lib/python3.8/dist-packages (from requests>=2.4->streamlit) (1.24.3)\n",
            "Requirement already satisfied: pygments<3.0.0,>=2.14.0 in /usr/local/lib/python3.8/dist-packages (from rich>=10.11.0->streamlit) (2.14.0)\n",
            "Requirement already satisfied: markdown-it-py<3.0.0,>=2.1.0 in /usr/local/lib/python3.8/dist-packages (from rich>=10.11.0->streamlit) (2.1.0)\n",
            "Requirement already satisfied: decorator>=3.4.0 in /usr/local/lib/python3.8/dist-packages (from validators>=0.2->streamlit) (4.4.2)\n",
            "Requirement already satisfied: smmap<6,>=3.0.1 in /usr/local/lib/python3.8/dist-packages (from gitdb<5,>=4.0.1->gitpython!=3.1.19->streamlit) (5.0.0)\n",
            "Requirement already satisfied: MarkupSafe>=0.23 in /usr/local/lib/python3.8/dist-packages (from jinja2->altair>=3.2.0->streamlit) (2.0.1)\n",
            "Requirement already satisfied: attrs>=17.4.0 in /usr/local/lib/python3.8/dist-packages (from jsonschema>=3.0->altair>=3.2.0->streamlit) (22.2.0)\n",
            "Requirement already satisfied: importlib-resources>=1.4.0 in /usr/local/lib/python3.8/dist-packages (from jsonschema>=3.0->altair>=3.2.0->streamlit) (5.10.2)\n",
            "Requirement already satisfied: pyrsistent!=0.17.0,!=0.17.1,!=0.17.2,>=0.14.0 in /usr/local/lib/python3.8/dist-packages (from jsonschema>=3.0->altair>=3.2.0->streamlit) (0.19.3)\n",
            "Requirement already satisfied: mdurl~=0.1 in /usr/local/lib/python3.8/dist-packages (from markdown-it-py<3.0.0,>=2.1.0->rich>=10.11.0->streamlit) (0.1.2)\n"
          ]
        }
      ]
    },
    {
      "cell_type": "code",
      "source": [
        "import pandas as pd\n",
        "import numpy as np\n",
        "import matplotlib.pyplot as plt\n",
        "import requests\n",
        "import json\n",
        "import os\n",
        "import plotly.express as px\n",
        "import streamlit as st"
      ],
      "metadata": {
        "id": "k4Os4jHFnr6B"
      },
      "execution_count": 4,
      "outputs": []
    },
    {
      "cell_type": "code",
      "source": [
        "#This is to direct the path to get the data as states\n",
        "\n",
        "path=\"/content/pulse/data/aggregated/transaction/country/india/state/\"\n",
        "Agg_state_list=os.listdir(path)\n",
        "Agg_state_list\n",
        "#Agg_state_list--> to get the list of states in India\n",
        "\n",
        "#<------------------------------------------------------------------------------------------------------------------------------------------------------------------------------------------------------------>#\n",
        "\n",
        "#This is to extract the data's to create a dataframe\n",
        "\n",
        "clm={'State':[], 'Year':[],'Quarter':[],'Transaction_type':[], 'Transaction_count':[], 'Transaction_amount':[]}\n",
        "for i in Agg_state_list:\n",
        "    p_i=path+i+\"/\"\n",
        "    Agg_yr=os.listdir(p_i)    \n",
        "    for j in Agg_yr:\n",
        "        p_j=p_i+j+\"/\"\n",
        "        Agg_yr_list=os.listdir(p_j)        \n",
        "        for k in Agg_yr_list:\n",
        "            p_k=p_j+k\n",
        "            Data=open(p_k,'r')\n",
        "            D=json.load(Data)\n",
        "            for z in D['data']['transactionData']:\n",
        "              Name=z['name']\n",
        "              count=z['paymentInstruments'][0]['count']\n",
        "              amount=z['paymentInstruments'][0]['amount']\n",
        "              clm['Transaction_type'].append(Name)\n",
        "              clm['Transaction_count'].append(count)\n",
        "              clm['Transaction_amount'].append(amount)\n",
        "              clm['State'].append(i)\n",
        "              clm['Year'].append(j)\n",
        "              clm['Quarter'].append(int(k.strip('.json')))\n",
        "#Succesfully created a dataframe\n",
        "df = pd.DataFrame(clm)\n",
        "\n"
      ],
      "metadata": {
        "id": "bJtrt_oJXVe8"
      },
      "execution_count": 5,
      "outputs": []
    },
    {
      "cell_type": "code",
      "source": [
        "df.head()"
      ],
      "metadata": {
        "colab": {
          "base_uri": "https://localhost:8080/",
          "height": 206
        },
        "id": "jvQpFOZ1520_",
        "outputId": "88df6318-44ee-461b-b0e4-0436da3c7774"
      },
      "execution_count": 6,
      "outputs": [
        {
          "output_type": "execute_result",
          "data": {
            "text/plain": [
              "          State  Year  Quarter          Transaction_type  Transaction_count  \\\n",
              "0  chhattisgarh  2018        4  Recharge & bill payments            2438959   \n",
              "1  chhattisgarh  2018        4     Peer-to-peer payments            2342713   \n",
              "2  chhattisgarh  2018        4         Merchant payments             458091   \n",
              "3  chhattisgarh  2018        4        Financial Services              42199   \n",
              "4  chhattisgarh  2018        4                    Others              83882   \n",
              "\n",
              "   Transaction_amount  \n",
              "0        5.545145e+08  \n",
              "1        8.450105e+09  \n",
              "2        3.318430e+08  \n",
              "3        9.709810e+06  \n",
              "4        7.024010e+07  "
            ],
            "text/html": [
              "\n",
              "  <div id=\"df-15928eee-1414-43ec-9802-9f4f7c04b13f\">\n",
              "    <div class=\"colab-df-container\">\n",
              "      <div>\n",
              "<style scoped>\n",
              "    .dataframe tbody tr th:only-of-type {\n",
              "        vertical-align: middle;\n",
              "    }\n",
              "\n",
              "    .dataframe tbody tr th {\n",
              "        vertical-align: top;\n",
              "    }\n",
              "\n",
              "    .dataframe thead th {\n",
              "        text-align: right;\n",
              "    }\n",
              "</style>\n",
              "<table border=\"1\" class=\"dataframe\">\n",
              "  <thead>\n",
              "    <tr style=\"text-align: right;\">\n",
              "      <th></th>\n",
              "      <th>State</th>\n",
              "      <th>Year</th>\n",
              "      <th>Quarter</th>\n",
              "      <th>Transaction_type</th>\n",
              "      <th>Transaction_count</th>\n",
              "      <th>Transaction_amount</th>\n",
              "    </tr>\n",
              "  </thead>\n",
              "  <tbody>\n",
              "    <tr>\n",
              "      <th>0</th>\n",
              "      <td>chhattisgarh</td>\n",
              "      <td>2018</td>\n",
              "      <td>4</td>\n",
              "      <td>Recharge &amp; bill payments</td>\n",
              "      <td>2438959</td>\n",
              "      <td>5.545145e+08</td>\n",
              "    </tr>\n",
              "    <tr>\n",
              "      <th>1</th>\n",
              "      <td>chhattisgarh</td>\n",
              "      <td>2018</td>\n",
              "      <td>4</td>\n",
              "      <td>Peer-to-peer payments</td>\n",
              "      <td>2342713</td>\n",
              "      <td>8.450105e+09</td>\n",
              "    </tr>\n",
              "    <tr>\n",
              "      <th>2</th>\n",
              "      <td>chhattisgarh</td>\n",
              "      <td>2018</td>\n",
              "      <td>4</td>\n",
              "      <td>Merchant payments</td>\n",
              "      <td>458091</td>\n",
              "      <td>3.318430e+08</td>\n",
              "    </tr>\n",
              "    <tr>\n",
              "      <th>3</th>\n",
              "      <td>chhattisgarh</td>\n",
              "      <td>2018</td>\n",
              "      <td>4</td>\n",
              "      <td>Financial Services</td>\n",
              "      <td>42199</td>\n",
              "      <td>9.709810e+06</td>\n",
              "    </tr>\n",
              "    <tr>\n",
              "      <th>4</th>\n",
              "      <td>chhattisgarh</td>\n",
              "      <td>2018</td>\n",
              "      <td>4</td>\n",
              "      <td>Others</td>\n",
              "      <td>83882</td>\n",
              "      <td>7.024010e+07</td>\n",
              "    </tr>\n",
              "  </tbody>\n",
              "</table>\n",
              "</div>\n",
              "      <button class=\"colab-df-convert\" onclick=\"convertToInteractive('df-15928eee-1414-43ec-9802-9f4f7c04b13f')\"\n",
              "              title=\"Convert this dataframe to an interactive table.\"\n",
              "              style=\"display:none;\">\n",
              "        \n",
              "  <svg xmlns=\"http://www.w3.org/2000/svg\" height=\"24px\"viewBox=\"0 0 24 24\"\n",
              "       width=\"24px\">\n",
              "    <path d=\"M0 0h24v24H0V0z\" fill=\"none\"/>\n",
              "    <path d=\"M18.56 5.44l.94 2.06.94-2.06 2.06-.94-2.06-.94-.94-2.06-.94 2.06-2.06.94zm-11 1L8.5 8.5l.94-2.06 2.06-.94-2.06-.94L8.5 2.5l-.94 2.06-2.06.94zm10 10l.94 2.06.94-2.06 2.06-.94-2.06-.94-.94-2.06-.94 2.06-2.06.94z\"/><path d=\"M17.41 7.96l-1.37-1.37c-.4-.4-.92-.59-1.43-.59-.52 0-1.04.2-1.43.59L10.3 9.45l-7.72 7.72c-.78.78-.78 2.05 0 2.83L4 21.41c.39.39.9.59 1.41.59.51 0 1.02-.2 1.41-.59l7.78-7.78 2.81-2.81c.8-.78.8-2.07 0-2.86zM5.41 20L4 18.59l7.72-7.72 1.47 1.35L5.41 20z\"/>\n",
              "  </svg>\n",
              "      </button>\n",
              "      \n",
              "  <style>\n",
              "    .colab-df-container {\n",
              "      display:flex;\n",
              "      flex-wrap:wrap;\n",
              "      gap: 12px;\n",
              "    }\n",
              "\n",
              "    .colab-df-convert {\n",
              "      background-color: #E8F0FE;\n",
              "      border: none;\n",
              "      border-radius: 50%;\n",
              "      cursor: pointer;\n",
              "      display: none;\n",
              "      fill: #1967D2;\n",
              "      height: 32px;\n",
              "      padding: 0 0 0 0;\n",
              "      width: 32px;\n",
              "    }\n",
              "\n",
              "    .colab-df-convert:hover {\n",
              "      background-color: #E2EBFA;\n",
              "      box-shadow: 0px 1px 2px rgba(60, 64, 67, 0.3), 0px 1px 3px 1px rgba(60, 64, 67, 0.15);\n",
              "      fill: #174EA6;\n",
              "    }\n",
              "\n",
              "    [theme=dark] .colab-df-convert {\n",
              "      background-color: #3B4455;\n",
              "      fill: #D2E3FC;\n",
              "    }\n",
              "\n",
              "    [theme=dark] .colab-df-convert:hover {\n",
              "      background-color: #434B5C;\n",
              "      box-shadow: 0px 1px 3px 1px rgba(0, 0, 0, 0.15);\n",
              "      filter: drop-shadow(0px 1px 2px rgba(0, 0, 0, 0.3));\n",
              "      fill: #FFFFFF;\n",
              "    }\n",
              "  </style>\n",
              "\n",
              "      <script>\n",
              "        const buttonEl =\n",
              "          document.querySelector('#df-15928eee-1414-43ec-9802-9f4f7c04b13f button.colab-df-convert');\n",
              "        buttonEl.style.display =\n",
              "          google.colab.kernel.accessAllowed ? 'block' : 'none';\n",
              "\n",
              "        async function convertToInteractive(key) {\n",
              "          const element = document.querySelector('#df-15928eee-1414-43ec-9802-9f4f7c04b13f');\n",
              "          const dataTable =\n",
              "            await google.colab.kernel.invokeFunction('convertToInteractive',\n",
              "                                                     [key], {});\n",
              "          if (!dataTable) return;\n",
              "\n",
              "          const docLinkHtml = 'Like what you see? Visit the ' +\n",
              "            '<a target=\"_blank\" href=https://colab.research.google.com/notebooks/data_table.ipynb>data table notebook</a>'\n",
              "            + ' to learn more about interactive tables.';\n",
              "          element.innerHTML = '';\n",
              "          dataTable['output_type'] = 'display_data';\n",
              "          await google.colab.output.renderOutput(dataTable, element);\n",
              "          const docLink = document.createElement('div');\n",
              "          docLink.innerHTML = docLinkHtml;\n",
              "          element.appendChild(docLink);\n",
              "        }\n",
              "      </script>\n",
              "    </div>\n",
              "  </div>\n",
              "  "
            ]
          },
          "metadata": {},
          "execution_count": 6
        }
      ]
    },
    {
      "cell_type": "code",
      "source": [
        "df.isnull().sum()"
      ],
      "metadata": {
        "colab": {
          "base_uri": "https://localhost:8080/"
        },
        "id": "BHeTyJj88mDO",
        "outputId": "3f933b92-2060-4121-e8f1-edca056b6936"
      },
      "execution_count": 7,
      "outputs": [
        {
          "output_type": "execute_result",
          "data": {
            "text/plain": [
              "State                 0\n",
              "Year                  0\n",
              "Quarter               0\n",
              "Transaction_type      0\n",
              "Transaction_count     0\n",
              "Transaction_amount    0\n",
              "dtype: int64"
            ]
          },
          "metadata": {},
          "execution_count": 7
        }
      ]
    },
    {
      "cell_type": "code",
      "source": [
        "path='/content/pulse/data/aggregated/user/country/india/state/'\n",
        "Agg_state_list=os.listdir(path)\n",
        "clm2={'State':[], 'Year':[],'Quarter':[],'Brand':[], 'Count':[], 'Percentage':[]}\n",
        "for i in Agg_state_list:\n",
        "    p_i=path+i+\"/\"    \n",
        "    Agg_yr=os.listdir(p_i) \n",
        "    for j in Agg_yr:\n",
        "        p_j=p_i+j+\"/\"\n",
        "        Agg_yr_list=os.listdir(p_j)        \n",
        "        for k in Agg_yr_list:\n",
        "            p_k=p_j+k\n",
        "            Data=open(p_k,'r')            \n",
        "            D=json.load(Data)\n",
        "            try:\n",
        "                for z in D['data']['usersByDevice']:\n",
        "                    clm2['Brand'].append(z['brand'])\n",
        "                    clm2['Count'].append(z['count'])\n",
        "                    clm2['Percentage']=(z['percentage'])\n",
        "                    clm2['State'].append(i)\n",
        "                    clm2['Year'].append(j)\n",
        "                    clm2['Quarter'].append(int(k.strip('.json')))\n",
        "            except:\n",
        "                pass\n",
        "\n",
        "df1=pd.DataFrame(clm2)\n",
        "df1.head()"
      ],
      "metadata": {
        "id": "3nsLfmwVn4Ai",
        "colab": {
          "base_uri": "https://localhost:8080/",
          "height": 206
        },
        "outputId": "9e0dcb1d-15db-4641-ef7d-b4d093abae4b"
      },
      "execution_count": 8,
      "outputs": [
        {
          "output_type": "execute_result",
          "data": {
            "text/plain": [
              "          State  Year  Quarter     Brand   Count  Percentage\n",
              "0  chhattisgarh  2018        4    Xiaomi  378100    0.120482\n",
              "1  chhattisgarh  2018        4   Samsung  280138    0.120482\n",
              "2  chhattisgarh  2018        4      Vivo  275135    0.120482\n",
              "3  chhattisgarh  2018        4      Oppo  155513    0.120482\n",
              "4  chhattisgarh  2018        4  Micromax  154018    0.120482"
            ],
            "text/html": [
              "\n",
              "  <div id=\"df-fd19c617-3c16-408c-b845-b5a19fbc2d76\">\n",
              "    <div class=\"colab-df-container\">\n",
              "      <div>\n",
              "<style scoped>\n",
              "    .dataframe tbody tr th:only-of-type {\n",
              "        vertical-align: middle;\n",
              "    }\n",
              "\n",
              "    .dataframe tbody tr th {\n",
              "        vertical-align: top;\n",
              "    }\n",
              "\n",
              "    .dataframe thead th {\n",
              "        text-align: right;\n",
              "    }\n",
              "</style>\n",
              "<table border=\"1\" class=\"dataframe\">\n",
              "  <thead>\n",
              "    <tr style=\"text-align: right;\">\n",
              "      <th></th>\n",
              "      <th>State</th>\n",
              "      <th>Year</th>\n",
              "      <th>Quarter</th>\n",
              "      <th>Brand</th>\n",
              "      <th>Count</th>\n",
              "      <th>Percentage</th>\n",
              "    </tr>\n",
              "  </thead>\n",
              "  <tbody>\n",
              "    <tr>\n",
              "      <th>0</th>\n",
              "      <td>chhattisgarh</td>\n",
              "      <td>2018</td>\n",
              "      <td>4</td>\n",
              "      <td>Xiaomi</td>\n",
              "      <td>378100</td>\n",
              "      <td>0.120482</td>\n",
              "    </tr>\n",
              "    <tr>\n",
              "      <th>1</th>\n",
              "      <td>chhattisgarh</td>\n",
              "      <td>2018</td>\n",
              "      <td>4</td>\n",
              "      <td>Samsung</td>\n",
              "      <td>280138</td>\n",
              "      <td>0.120482</td>\n",
              "    </tr>\n",
              "    <tr>\n",
              "      <th>2</th>\n",
              "      <td>chhattisgarh</td>\n",
              "      <td>2018</td>\n",
              "      <td>4</td>\n",
              "      <td>Vivo</td>\n",
              "      <td>275135</td>\n",
              "      <td>0.120482</td>\n",
              "    </tr>\n",
              "    <tr>\n",
              "      <th>3</th>\n",
              "      <td>chhattisgarh</td>\n",
              "      <td>2018</td>\n",
              "      <td>4</td>\n",
              "      <td>Oppo</td>\n",
              "      <td>155513</td>\n",
              "      <td>0.120482</td>\n",
              "    </tr>\n",
              "    <tr>\n",
              "      <th>4</th>\n",
              "      <td>chhattisgarh</td>\n",
              "      <td>2018</td>\n",
              "      <td>4</td>\n",
              "      <td>Micromax</td>\n",
              "      <td>154018</td>\n",
              "      <td>0.120482</td>\n",
              "    </tr>\n",
              "  </tbody>\n",
              "</table>\n",
              "</div>\n",
              "      <button class=\"colab-df-convert\" onclick=\"convertToInteractive('df-fd19c617-3c16-408c-b845-b5a19fbc2d76')\"\n",
              "              title=\"Convert this dataframe to an interactive table.\"\n",
              "              style=\"display:none;\">\n",
              "        \n",
              "  <svg xmlns=\"http://www.w3.org/2000/svg\" height=\"24px\"viewBox=\"0 0 24 24\"\n",
              "       width=\"24px\">\n",
              "    <path d=\"M0 0h24v24H0V0z\" fill=\"none\"/>\n",
              "    <path d=\"M18.56 5.44l.94 2.06.94-2.06 2.06-.94-2.06-.94-.94-2.06-.94 2.06-2.06.94zm-11 1L8.5 8.5l.94-2.06 2.06-.94-2.06-.94L8.5 2.5l-.94 2.06-2.06.94zm10 10l.94 2.06.94-2.06 2.06-.94-2.06-.94-.94-2.06-.94 2.06-2.06.94z\"/><path d=\"M17.41 7.96l-1.37-1.37c-.4-.4-.92-.59-1.43-.59-.52 0-1.04.2-1.43.59L10.3 9.45l-7.72 7.72c-.78.78-.78 2.05 0 2.83L4 21.41c.39.39.9.59 1.41.59.51 0 1.02-.2 1.41-.59l7.78-7.78 2.81-2.81c.8-.78.8-2.07 0-2.86zM5.41 20L4 18.59l7.72-7.72 1.47 1.35L5.41 20z\"/>\n",
              "  </svg>\n",
              "      </button>\n",
              "      \n",
              "  <style>\n",
              "    .colab-df-container {\n",
              "      display:flex;\n",
              "      flex-wrap:wrap;\n",
              "      gap: 12px;\n",
              "    }\n",
              "\n",
              "    .colab-df-convert {\n",
              "      background-color: #E8F0FE;\n",
              "      border: none;\n",
              "      border-radius: 50%;\n",
              "      cursor: pointer;\n",
              "      display: none;\n",
              "      fill: #1967D2;\n",
              "      height: 32px;\n",
              "      padding: 0 0 0 0;\n",
              "      width: 32px;\n",
              "    }\n",
              "\n",
              "    .colab-df-convert:hover {\n",
              "      background-color: #E2EBFA;\n",
              "      box-shadow: 0px 1px 2px rgba(60, 64, 67, 0.3), 0px 1px 3px 1px rgba(60, 64, 67, 0.15);\n",
              "      fill: #174EA6;\n",
              "    }\n",
              "\n",
              "    [theme=dark] .colab-df-convert {\n",
              "      background-color: #3B4455;\n",
              "      fill: #D2E3FC;\n",
              "    }\n",
              "\n",
              "    [theme=dark] .colab-df-convert:hover {\n",
              "      background-color: #434B5C;\n",
              "      box-shadow: 0px 1px 3px 1px rgba(0, 0, 0, 0.15);\n",
              "      filter: drop-shadow(0px 1px 2px rgba(0, 0, 0, 0.3));\n",
              "      fill: #FFFFFF;\n",
              "    }\n",
              "  </style>\n",
              "\n",
              "      <script>\n",
              "        const buttonEl =\n",
              "          document.querySelector('#df-fd19c617-3c16-408c-b845-b5a19fbc2d76 button.colab-df-convert');\n",
              "        buttonEl.style.display =\n",
              "          google.colab.kernel.accessAllowed ? 'block' : 'none';\n",
              "\n",
              "        async function convertToInteractive(key) {\n",
              "          const element = document.querySelector('#df-fd19c617-3c16-408c-b845-b5a19fbc2d76');\n",
              "          const dataTable =\n",
              "            await google.colab.kernel.invokeFunction('convertToInteractive',\n",
              "                                                     [key], {});\n",
              "          if (!dataTable) return;\n",
              "\n",
              "          const docLinkHtml = 'Like what you see? Visit the ' +\n",
              "            '<a target=\"_blank\" href=https://colab.research.google.com/notebooks/data_table.ipynb>data table notebook</a>'\n",
              "            + ' to learn more about interactive tables.';\n",
              "          element.innerHTML = '';\n",
              "          dataTable['output_type'] = 'display_data';\n",
              "          await google.colab.output.renderOutput(dataTable, element);\n",
              "          const docLink = document.createElement('div');\n",
              "          docLink.innerHTML = docLinkHtml;\n",
              "          element.appendChild(docLink);\n",
              "        }\n",
              "      </script>\n",
              "    </div>\n",
              "  </div>\n",
              "  "
            ]
          },
          "metadata": {},
          "execution_count": 8
        }
      ]
    },
    {
      "cell_type": "code",
      "source": [
        "df1.isnull().sum()"
      ],
      "metadata": {
        "colab": {
          "base_uri": "https://localhost:8080/"
        },
        "id": "9jmVen196Kre",
        "outputId": "15beff4b-5fbc-4923-fe13-8b7b0a9043cf"
      },
      "execution_count": 9,
      "outputs": [
        {
          "output_type": "execute_result",
          "data": {
            "text/plain": [
              "State         0\n",
              "Year          0\n",
              "Quarter       0\n",
              "Brand         0\n",
              "Count         0\n",
              "Percentage    0\n",
              "dtype: int64"
            ]
          },
          "metadata": {},
          "execution_count": 9
        }
      ]
    },
    {
      "cell_type": "code",
      "source": [
        "path=\"/content/pulse/data/map/transaction/hover/country/india/state/\"\n",
        "hover_state_list=os.listdir(path)\n",
        "hover_state_list\n",
        "\n",
        "clm3={'State':[], 'Year':[],'Quarter':[],'District':[], 'Count':[], 'Amount':[]}\n",
        "for i in hover_state_list:\n",
        "    p_i=path+i+\"/\"\n",
        "    hover_yr=os.listdir(p_i)    \n",
        "    for j in hover_yr:\n",
        "        p_j=p_i+j+\"/\"\n",
        "        hover_yr_list=os.listdir(p_j)        \n",
        "        for k in hover_yr_list:\n",
        "            p_k=p_j+k\n",
        "            Data=open(p_k,'r')\n",
        "            D=json.load(Data)\n",
        "            for z in D['data']['hoverDataList']:\n",
        "              Name=z['name']\n",
        "              count=z['metric'][0]['count']\n",
        "              amount=z['metric'][0]['amount']\n",
        "              clm3['District'].append(Name)\n",
        "              clm3['Count'].append(count)\n",
        "              clm3['Amount'].append(amount)\n",
        "              clm3['State'].append(i)\n",
        "              clm3['Year'].append(j)\n",
        "              clm3['Quarter'].append(int(k.strip('.json')))\n",
        "#Succesfully created a dataframe\n",
        "df2 = pd.DataFrame(clm3)\n",
        "\n",
        "df2.head()"
      ],
      "metadata": {
        "id": "SZ0AEras6y3G",
        "colab": {
          "base_uri": "https://localhost:8080/",
          "height": 206
        },
        "outputId": "775f092a-efc0-46f1-9af5-3d8cbf95e967"
      },
      "execution_count": 10,
      "outputs": [
        {
          "output_type": "execute_result",
          "data": {
            "text/plain": [
              "          State  Year  Quarter               District   Count        Amount\n",
              "0  chhattisgarh  2018        4      dhamtari district  108799  1.647087e+08\n",
              "1  chhattisgarh  2018        4         korba district  270387  4.803654e+08\n",
              "2  chhattisgarh  2018        4      surajpur district  109764  1.929383e+08\n",
              "3  chhattisgarh  2018        4  baloda bazar district  190033  2.959821e+08\n",
              "4  chhattisgarh  2018        4         sukma district   29759  6.649305e+07"
            ],
            "text/html": [
              "\n",
              "  <div id=\"df-15af7921-8860-4566-8b62-e218cc83e7fb\">\n",
              "    <div class=\"colab-df-container\">\n",
              "      <div>\n",
              "<style scoped>\n",
              "    .dataframe tbody tr th:only-of-type {\n",
              "        vertical-align: middle;\n",
              "    }\n",
              "\n",
              "    .dataframe tbody tr th {\n",
              "        vertical-align: top;\n",
              "    }\n",
              "\n",
              "    .dataframe thead th {\n",
              "        text-align: right;\n",
              "    }\n",
              "</style>\n",
              "<table border=\"1\" class=\"dataframe\">\n",
              "  <thead>\n",
              "    <tr style=\"text-align: right;\">\n",
              "      <th></th>\n",
              "      <th>State</th>\n",
              "      <th>Year</th>\n",
              "      <th>Quarter</th>\n",
              "      <th>District</th>\n",
              "      <th>Count</th>\n",
              "      <th>Amount</th>\n",
              "    </tr>\n",
              "  </thead>\n",
              "  <tbody>\n",
              "    <tr>\n",
              "      <th>0</th>\n",
              "      <td>chhattisgarh</td>\n",
              "      <td>2018</td>\n",
              "      <td>4</td>\n",
              "      <td>dhamtari district</td>\n",
              "      <td>108799</td>\n",
              "      <td>1.647087e+08</td>\n",
              "    </tr>\n",
              "    <tr>\n",
              "      <th>1</th>\n",
              "      <td>chhattisgarh</td>\n",
              "      <td>2018</td>\n",
              "      <td>4</td>\n",
              "      <td>korba district</td>\n",
              "      <td>270387</td>\n",
              "      <td>4.803654e+08</td>\n",
              "    </tr>\n",
              "    <tr>\n",
              "      <th>2</th>\n",
              "      <td>chhattisgarh</td>\n",
              "      <td>2018</td>\n",
              "      <td>4</td>\n",
              "      <td>surajpur district</td>\n",
              "      <td>109764</td>\n",
              "      <td>1.929383e+08</td>\n",
              "    </tr>\n",
              "    <tr>\n",
              "      <th>3</th>\n",
              "      <td>chhattisgarh</td>\n",
              "      <td>2018</td>\n",
              "      <td>4</td>\n",
              "      <td>baloda bazar district</td>\n",
              "      <td>190033</td>\n",
              "      <td>2.959821e+08</td>\n",
              "    </tr>\n",
              "    <tr>\n",
              "      <th>4</th>\n",
              "      <td>chhattisgarh</td>\n",
              "      <td>2018</td>\n",
              "      <td>4</td>\n",
              "      <td>sukma district</td>\n",
              "      <td>29759</td>\n",
              "      <td>6.649305e+07</td>\n",
              "    </tr>\n",
              "  </tbody>\n",
              "</table>\n",
              "</div>\n",
              "      <button class=\"colab-df-convert\" onclick=\"convertToInteractive('df-15af7921-8860-4566-8b62-e218cc83e7fb')\"\n",
              "              title=\"Convert this dataframe to an interactive table.\"\n",
              "              style=\"display:none;\">\n",
              "        \n",
              "  <svg xmlns=\"http://www.w3.org/2000/svg\" height=\"24px\"viewBox=\"0 0 24 24\"\n",
              "       width=\"24px\">\n",
              "    <path d=\"M0 0h24v24H0V0z\" fill=\"none\"/>\n",
              "    <path d=\"M18.56 5.44l.94 2.06.94-2.06 2.06-.94-2.06-.94-.94-2.06-.94 2.06-2.06.94zm-11 1L8.5 8.5l.94-2.06 2.06-.94-2.06-.94L8.5 2.5l-.94 2.06-2.06.94zm10 10l.94 2.06.94-2.06 2.06-.94-2.06-.94-.94-2.06-.94 2.06-2.06.94z\"/><path d=\"M17.41 7.96l-1.37-1.37c-.4-.4-.92-.59-1.43-.59-.52 0-1.04.2-1.43.59L10.3 9.45l-7.72 7.72c-.78.78-.78 2.05 0 2.83L4 21.41c.39.39.9.59 1.41.59.51 0 1.02-.2 1.41-.59l7.78-7.78 2.81-2.81c.8-.78.8-2.07 0-2.86zM5.41 20L4 18.59l7.72-7.72 1.47 1.35L5.41 20z\"/>\n",
              "  </svg>\n",
              "      </button>\n",
              "      \n",
              "  <style>\n",
              "    .colab-df-container {\n",
              "      display:flex;\n",
              "      flex-wrap:wrap;\n",
              "      gap: 12px;\n",
              "    }\n",
              "\n",
              "    .colab-df-convert {\n",
              "      background-color: #E8F0FE;\n",
              "      border: none;\n",
              "      border-radius: 50%;\n",
              "      cursor: pointer;\n",
              "      display: none;\n",
              "      fill: #1967D2;\n",
              "      height: 32px;\n",
              "      padding: 0 0 0 0;\n",
              "      width: 32px;\n",
              "    }\n",
              "\n",
              "    .colab-df-convert:hover {\n",
              "      background-color: #E2EBFA;\n",
              "      box-shadow: 0px 1px 2px rgba(60, 64, 67, 0.3), 0px 1px 3px 1px rgba(60, 64, 67, 0.15);\n",
              "      fill: #174EA6;\n",
              "    }\n",
              "\n",
              "    [theme=dark] .colab-df-convert {\n",
              "      background-color: #3B4455;\n",
              "      fill: #D2E3FC;\n",
              "    }\n",
              "\n",
              "    [theme=dark] .colab-df-convert:hover {\n",
              "      background-color: #434B5C;\n",
              "      box-shadow: 0px 1px 3px 1px rgba(0, 0, 0, 0.15);\n",
              "      filter: drop-shadow(0px 1px 2px rgba(0, 0, 0, 0.3));\n",
              "      fill: #FFFFFF;\n",
              "    }\n",
              "  </style>\n",
              "\n",
              "      <script>\n",
              "        const buttonEl =\n",
              "          document.querySelector('#df-15af7921-8860-4566-8b62-e218cc83e7fb button.colab-df-convert');\n",
              "        buttonEl.style.display =\n",
              "          google.colab.kernel.accessAllowed ? 'block' : 'none';\n",
              "\n",
              "        async function convertToInteractive(key) {\n",
              "          const element = document.querySelector('#df-15af7921-8860-4566-8b62-e218cc83e7fb');\n",
              "          const dataTable =\n",
              "            await google.colab.kernel.invokeFunction('convertToInteractive',\n",
              "                                                     [key], {});\n",
              "          if (!dataTable) return;\n",
              "\n",
              "          const docLinkHtml = 'Like what you see? Visit the ' +\n",
              "            '<a target=\"_blank\" href=https://colab.research.google.com/notebooks/data_table.ipynb>data table notebook</a>'\n",
              "            + ' to learn more about interactive tables.';\n",
              "          element.innerHTML = '';\n",
              "          dataTable['output_type'] = 'display_data';\n",
              "          await google.colab.output.renderOutput(dataTable, element);\n",
              "          const docLink = document.createElement('div');\n",
              "          docLink.innerHTML = docLinkHtml;\n",
              "          element.appendChild(docLink);\n",
              "        }\n",
              "      </script>\n",
              "    </div>\n",
              "  </div>\n",
              "  "
            ]
          },
          "metadata": {},
          "execution_count": 10
        }
      ]
    },
    {
      "cell_type": "code",
      "source": [
        "df2.isnull().sum()"
      ],
      "metadata": {
        "colab": {
          "base_uri": "https://localhost:8080/"
        },
        "id": "8x-RJHPH8w8d",
        "outputId": "c7bdf8fa-bab1-440b-fc64-7249b36d443d"
      },
      "execution_count": 11,
      "outputs": [
        {
          "output_type": "execute_result",
          "data": {
            "text/plain": [
              "State       0\n",
              "Year        0\n",
              "Quarter     0\n",
              "District    0\n",
              "Count       0\n",
              "Amount      0\n",
              "dtype: int64"
            ]
          },
          "metadata": {},
          "execution_count": 11
        }
      ]
    },
    {
      "cell_type": "code",
      "source": [
        "path='/content/pulse/data/map/user/hover/country/india/state/'\n",
        "\n",
        "hover_state_list=os.listdir(path)\n",
        "hover_state_list\n",
        "\n",
        "clm4={'State':[], 'Year':[],'Quarter':[],'Users':[], 'Districts':[]}\n",
        "for i in hover_state_list:\n",
        "    p_i=path+i+\"/\"\n",
        "    hover_yr=os.listdir(p_i)    \n",
        "    for j in hover_yr:\n",
        "        p_j=p_i+j+\"/\"\n",
        "        hover_yr_list=os.listdir(p_j)        \n",
        "        for k in hover_yr_list:\n",
        "            p_k=p_j+k\n",
        "            Data=open(p_k,'r')\n",
        "            D=json.load(Data)\n",
        "            for district, values in D['data']['hoverData'].items():\n",
        "              users=values['registeredUsers']\n",
        "              dist=district\n",
        "              clm4['Users'].append(users)\n",
        "              clm4['Districts'].append(dist)\n",
        "              clm4['State'].append(i)\n",
        "              clm4['Year'].append(j)\n",
        "              clm4['Quarter'].append(int(k.strip('.json')))\n",
        "\n",
        "#Succesfully created a dataframe\n",
        "df3 = pd.DataFrame(clm4)\n",
        "df3.head()"
      ],
      "metadata": {
        "id": "B6YGDDAwmrsd",
        "colab": {
          "base_uri": "https://localhost:8080/",
          "height": 206
        },
        "outputId": "4d6763f1-2d5a-4961-fdcf-4f84e8707839"
      },
      "execution_count": 12,
      "outputs": [
        {
          "output_type": "execute_result",
          "data": {
            "text/plain": [
              "          State  Year  Quarter  Users              Districts\n",
              "0  chhattisgarh  2018        4  37491      dhamtari district\n",
              "1  chhattisgarh  2018        4  88680         korba district\n",
              "2  chhattisgarh  2018        4  32284      surajpur district\n",
              "3  chhattisgarh  2018        4  60270  baloda bazar district\n",
              "4  chhattisgarh  2018        4   9189         sukma district"
            ],
            "text/html": [
              "\n",
              "  <div id=\"df-a2b19ce4-8f8e-4290-858d-2584ec06b50a\">\n",
              "    <div class=\"colab-df-container\">\n",
              "      <div>\n",
              "<style scoped>\n",
              "    .dataframe tbody tr th:only-of-type {\n",
              "        vertical-align: middle;\n",
              "    }\n",
              "\n",
              "    .dataframe tbody tr th {\n",
              "        vertical-align: top;\n",
              "    }\n",
              "\n",
              "    .dataframe thead th {\n",
              "        text-align: right;\n",
              "    }\n",
              "</style>\n",
              "<table border=\"1\" class=\"dataframe\">\n",
              "  <thead>\n",
              "    <tr style=\"text-align: right;\">\n",
              "      <th></th>\n",
              "      <th>State</th>\n",
              "      <th>Year</th>\n",
              "      <th>Quarter</th>\n",
              "      <th>Users</th>\n",
              "      <th>Districts</th>\n",
              "    </tr>\n",
              "  </thead>\n",
              "  <tbody>\n",
              "    <tr>\n",
              "      <th>0</th>\n",
              "      <td>chhattisgarh</td>\n",
              "      <td>2018</td>\n",
              "      <td>4</td>\n",
              "      <td>37491</td>\n",
              "      <td>dhamtari district</td>\n",
              "    </tr>\n",
              "    <tr>\n",
              "      <th>1</th>\n",
              "      <td>chhattisgarh</td>\n",
              "      <td>2018</td>\n",
              "      <td>4</td>\n",
              "      <td>88680</td>\n",
              "      <td>korba district</td>\n",
              "    </tr>\n",
              "    <tr>\n",
              "      <th>2</th>\n",
              "      <td>chhattisgarh</td>\n",
              "      <td>2018</td>\n",
              "      <td>4</td>\n",
              "      <td>32284</td>\n",
              "      <td>surajpur district</td>\n",
              "    </tr>\n",
              "    <tr>\n",
              "      <th>3</th>\n",
              "      <td>chhattisgarh</td>\n",
              "      <td>2018</td>\n",
              "      <td>4</td>\n",
              "      <td>60270</td>\n",
              "      <td>baloda bazar district</td>\n",
              "    </tr>\n",
              "    <tr>\n",
              "      <th>4</th>\n",
              "      <td>chhattisgarh</td>\n",
              "      <td>2018</td>\n",
              "      <td>4</td>\n",
              "      <td>9189</td>\n",
              "      <td>sukma district</td>\n",
              "    </tr>\n",
              "  </tbody>\n",
              "</table>\n",
              "</div>\n",
              "      <button class=\"colab-df-convert\" onclick=\"convertToInteractive('df-a2b19ce4-8f8e-4290-858d-2584ec06b50a')\"\n",
              "              title=\"Convert this dataframe to an interactive table.\"\n",
              "              style=\"display:none;\">\n",
              "        \n",
              "  <svg xmlns=\"http://www.w3.org/2000/svg\" height=\"24px\"viewBox=\"0 0 24 24\"\n",
              "       width=\"24px\">\n",
              "    <path d=\"M0 0h24v24H0V0z\" fill=\"none\"/>\n",
              "    <path d=\"M18.56 5.44l.94 2.06.94-2.06 2.06-.94-2.06-.94-.94-2.06-.94 2.06-2.06.94zm-11 1L8.5 8.5l.94-2.06 2.06-.94-2.06-.94L8.5 2.5l-.94 2.06-2.06.94zm10 10l.94 2.06.94-2.06 2.06-.94-2.06-.94-.94-2.06-.94 2.06-2.06.94z\"/><path d=\"M17.41 7.96l-1.37-1.37c-.4-.4-.92-.59-1.43-.59-.52 0-1.04.2-1.43.59L10.3 9.45l-7.72 7.72c-.78.78-.78 2.05 0 2.83L4 21.41c.39.39.9.59 1.41.59.51 0 1.02-.2 1.41-.59l7.78-7.78 2.81-2.81c.8-.78.8-2.07 0-2.86zM5.41 20L4 18.59l7.72-7.72 1.47 1.35L5.41 20z\"/>\n",
              "  </svg>\n",
              "      </button>\n",
              "      \n",
              "  <style>\n",
              "    .colab-df-container {\n",
              "      display:flex;\n",
              "      flex-wrap:wrap;\n",
              "      gap: 12px;\n",
              "    }\n",
              "\n",
              "    .colab-df-convert {\n",
              "      background-color: #E8F0FE;\n",
              "      border: none;\n",
              "      border-radius: 50%;\n",
              "      cursor: pointer;\n",
              "      display: none;\n",
              "      fill: #1967D2;\n",
              "      height: 32px;\n",
              "      padding: 0 0 0 0;\n",
              "      width: 32px;\n",
              "    }\n",
              "\n",
              "    .colab-df-convert:hover {\n",
              "      background-color: #E2EBFA;\n",
              "      box-shadow: 0px 1px 2px rgba(60, 64, 67, 0.3), 0px 1px 3px 1px rgba(60, 64, 67, 0.15);\n",
              "      fill: #174EA6;\n",
              "    }\n",
              "\n",
              "    [theme=dark] .colab-df-convert {\n",
              "      background-color: #3B4455;\n",
              "      fill: #D2E3FC;\n",
              "    }\n",
              "\n",
              "    [theme=dark] .colab-df-convert:hover {\n",
              "      background-color: #434B5C;\n",
              "      box-shadow: 0px 1px 3px 1px rgba(0, 0, 0, 0.15);\n",
              "      filter: drop-shadow(0px 1px 2px rgba(0, 0, 0, 0.3));\n",
              "      fill: #FFFFFF;\n",
              "    }\n",
              "  </style>\n",
              "\n",
              "      <script>\n",
              "        const buttonEl =\n",
              "          document.querySelector('#df-a2b19ce4-8f8e-4290-858d-2584ec06b50a button.colab-df-convert');\n",
              "        buttonEl.style.display =\n",
              "          google.colab.kernel.accessAllowed ? 'block' : 'none';\n",
              "\n",
              "        async function convertToInteractive(key) {\n",
              "          const element = document.querySelector('#df-a2b19ce4-8f8e-4290-858d-2584ec06b50a');\n",
              "          const dataTable =\n",
              "            await google.colab.kernel.invokeFunction('convertToInteractive',\n",
              "                                                     [key], {});\n",
              "          if (!dataTable) return;\n",
              "\n",
              "          const docLinkHtml = 'Like what you see? Visit the ' +\n",
              "            '<a target=\"_blank\" href=https://colab.research.google.com/notebooks/data_table.ipynb>data table notebook</a>'\n",
              "            + ' to learn more about interactive tables.';\n",
              "          element.innerHTML = '';\n",
              "          dataTable['output_type'] = 'display_data';\n",
              "          await google.colab.output.renderOutput(dataTable, element);\n",
              "          const docLink = document.createElement('div');\n",
              "          docLink.innerHTML = docLinkHtml;\n",
              "          element.appendChild(docLink);\n",
              "        }\n",
              "      </script>\n",
              "    </div>\n",
              "  </div>\n",
              "  "
            ]
          },
          "metadata": {},
          "execution_count": 12
        }
      ]
    },
    {
      "cell_type": "code",
      "source": [
        "df3.isnull().sum()"
      ],
      "metadata": {
        "colab": {
          "base_uri": "https://localhost:8080/"
        },
        "id": "xf-C35iN9Jj2",
        "outputId": "1d82884c-8e82-4f7a-aabc-89ef8ab83ec1"
      },
      "execution_count": 13,
      "outputs": [
        {
          "output_type": "execute_result",
          "data": {
            "text/plain": [
              "State        0\n",
              "Year         0\n",
              "Quarter      0\n",
              "Users        0\n",
              "Districts    0\n",
              "dtype: int64"
            ]
          },
          "metadata": {},
          "execution_count": 13
        }
      ]
    },
    {
      "cell_type": "code",
      "source": [
        "path=\"/content/pulse/data/top/transaction/country/india/state/\"\n",
        "top_state_list=os.listdir(path)\n",
        "top_state_list\n",
        "\n",
        "clm5={'State':[], 'Year':[],'Quarter':[],'Districts':[], 'Count':[], 'Amount':[]}\n",
        "for i in top_state_list:\n",
        "    p_i=path+i+\"/\"\n",
        "    top_yr=os.listdir(p_i)    \n",
        "    for j in top_yr:\n",
        "        p_j=p_i+j+\"/\"\n",
        "        top_yr_list=os.listdir(p_j)        \n",
        "        for k in top_yr_list:\n",
        "            p_k=p_j+k\n",
        "            with open(p_k, 'r') as file:\n",
        "                D=json.load(file)\n",
        "            for z in D['data']['districts']:\n",
        "              Name=z['entityName']\n",
        "              count=z['metric']['count']\n",
        "              amount=z['metric']['amount']\n",
        "              clm5['Districts'].append(Name)\n",
        "              clm5['Count'].append(count)\n",
        "              clm5['Amount'].append(amount)\n",
        "              clm5['State'].append(i)\n",
        "              clm5['Year'].append(j)\n",
        "              clm5['Quarter'].append(int(k.strip('.json')))\n",
        "\n",
        "df4 = pd.DataFrame(clm5)\n",
        "df4.head()"
      ],
      "metadata": {
        "id": "cxHlXzAglcTQ",
        "colab": {
          "base_uri": "https://localhost:8080/",
          "height": 206
        },
        "outputId": "e4117d74-85a4-41e3-993c-3580c0443547"
      },
      "execution_count": 14,
      "outputs": [
        {
          "output_type": "execute_result",
          "data": {
            "text/plain": [
              "          State  Year  Quarter       Districts   Count        Amount\n",
              "0  chhattisgarh  2018        4          raipur  891868  1.740861e+09\n",
              "1  chhattisgarh  2018        4  janjgir champa  669790  1.023380e+09\n",
              "2  chhattisgarh  2018        4            durg  529904  9.442874e+08\n",
              "3  chhattisgarh  2018        4        bilaspur  471373  7.304464e+08\n",
              "4  chhattisgarh  2018        4         raigarh  371009  6.093552e+08"
            ],
            "text/html": [
              "\n",
              "  <div id=\"df-02fc7539-268a-4dd9-ad89-6a1a948dccec\">\n",
              "    <div class=\"colab-df-container\">\n",
              "      <div>\n",
              "<style scoped>\n",
              "    .dataframe tbody tr th:only-of-type {\n",
              "        vertical-align: middle;\n",
              "    }\n",
              "\n",
              "    .dataframe tbody tr th {\n",
              "        vertical-align: top;\n",
              "    }\n",
              "\n",
              "    .dataframe thead th {\n",
              "        text-align: right;\n",
              "    }\n",
              "</style>\n",
              "<table border=\"1\" class=\"dataframe\">\n",
              "  <thead>\n",
              "    <tr style=\"text-align: right;\">\n",
              "      <th></th>\n",
              "      <th>State</th>\n",
              "      <th>Year</th>\n",
              "      <th>Quarter</th>\n",
              "      <th>Districts</th>\n",
              "      <th>Count</th>\n",
              "      <th>Amount</th>\n",
              "    </tr>\n",
              "  </thead>\n",
              "  <tbody>\n",
              "    <tr>\n",
              "      <th>0</th>\n",
              "      <td>chhattisgarh</td>\n",
              "      <td>2018</td>\n",
              "      <td>4</td>\n",
              "      <td>raipur</td>\n",
              "      <td>891868</td>\n",
              "      <td>1.740861e+09</td>\n",
              "    </tr>\n",
              "    <tr>\n",
              "      <th>1</th>\n",
              "      <td>chhattisgarh</td>\n",
              "      <td>2018</td>\n",
              "      <td>4</td>\n",
              "      <td>janjgir champa</td>\n",
              "      <td>669790</td>\n",
              "      <td>1.023380e+09</td>\n",
              "    </tr>\n",
              "    <tr>\n",
              "      <th>2</th>\n",
              "      <td>chhattisgarh</td>\n",
              "      <td>2018</td>\n",
              "      <td>4</td>\n",
              "      <td>durg</td>\n",
              "      <td>529904</td>\n",
              "      <td>9.442874e+08</td>\n",
              "    </tr>\n",
              "    <tr>\n",
              "      <th>3</th>\n",
              "      <td>chhattisgarh</td>\n",
              "      <td>2018</td>\n",
              "      <td>4</td>\n",
              "      <td>bilaspur</td>\n",
              "      <td>471373</td>\n",
              "      <td>7.304464e+08</td>\n",
              "    </tr>\n",
              "    <tr>\n",
              "      <th>4</th>\n",
              "      <td>chhattisgarh</td>\n",
              "      <td>2018</td>\n",
              "      <td>4</td>\n",
              "      <td>raigarh</td>\n",
              "      <td>371009</td>\n",
              "      <td>6.093552e+08</td>\n",
              "    </tr>\n",
              "  </tbody>\n",
              "</table>\n",
              "</div>\n",
              "      <button class=\"colab-df-convert\" onclick=\"convertToInteractive('df-02fc7539-268a-4dd9-ad89-6a1a948dccec')\"\n",
              "              title=\"Convert this dataframe to an interactive table.\"\n",
              "              style=\"display:none;\">\n",
              "        \n",
              "  <svg xmlns=\"http://www.w3.org/2000/svg\" height=\"24px\"viewBox=\"0 0 24 24\"\n",
              "       width=\"24px\">\n",
              "    <path d=\"M0 0h24v24H0V0z\" fill=\"none\"/>\n",
              "    <path d=\"M18.56 5.44l.94 2.06.94-2.06 2.06-.94-2.06-.94-.94-2.06-.94 2.06-2.06.94zm-11 1L8.5 8.5l.94-2.06 2.06-.94-2.06-.94L8.5 2.5l-.94 2.06-2.06.94zm10 10l.94 2.06.94-2.06 2.06-.94-2.06-.94-.94-2.06-.94 2.06-2.06.94z\"/><path d=\"M17.41 7.96l-1.37-1.37c-.4-.4-.92-.59-1.43-.59-.52 0-1.04.2-1.43.59L10.3 9.45l-7.72 7.72c-.78.78-.78 2.05 0 2.83L4 21.41c.39.39.9.59 1.41.59.51 0 1.02-.2 1.41-.59l7.78-7.78 2.81-2.81c.8-.78.8-2.07 0-2.86zM5.41 20L4 18.59l7.72-7.72 1.47 1.35L5.41 20z\"/>\n",
              "  </svg>\n",
              "      </button>\n",
              "      \n",
              "  <style>\n",
              "    .colab-df-container {\n",
              "      display:flex;\n",
              "      flex-wrap:wrap;\n",
              "      gap: 12px;\n",
              "    }\n",
              "\n",
              "    .colab-df-convert {\n",
              "      background-color: #E8F0FE;\n",
              "      border: none;\n",
              "      border-radius: 50%;\n",
              "      cursor: pointer;\n",
              "      display: none;\n",
              "      fill: #1967D2;\n",
              "      height: 32px;\n",
              "      padding: 0 0 0 0;\n",
              "      width: 32px;\n",
              "    }\n",
              "\n",
              "    .colab-df-convert:hover {\n",
              "      background-color: #E2EBFA;\n",
              "      box-shadow: 0px 1px 2px rgba(60, 64, 67, 0.3), 0px 1px 3px 1px rgba(60, 64, 67, 0.15);\n",
              "      fill: #174EA6;\n",
              "    }\n",
              "\n",
              "    [theme=dark] .colab-df-convert {\n",
              "      background-color: #3B4455;\n",
              "      fill: #D2E3FC;\n",
              "    }\n",
              "\n",
              "    [theme=dark] .colab-df-convert:hover {\n",
              "      background-color: #434B5C;\n",
              "      box-shadow: 0px 1px 3px 1px rgba(0, 0, 0, 0.15);\n",
              "      filter: drop-shadow(0px 1px 2px rgba(0, 0, 0, 0.3));\n",
              "      fill: #FFFFFF;\n",
              "    }\n",
              "  </style>\n",
              "\n",
              "      <script>\n",
              "        const buttonEl =\n",
              "          document.querySelector('#df-02fc7539-268a-4dd9-ad89-6a1a948dccec button.colab-df-convert');\n",
              "        buttonEl.style.display =\n",
              "          google.colab.kernel.accessAllowed ? 'block' : 'none';\n",
              "\n",
              "        async function convertToInteractive(key) {\n",
              "          const element = document.querySelector('#df-02fc7539-268a-4dd9-ad89-6a1a948dccec');\n",
              "          const dataTable =\n",
              "            await google.colab.kernel.invokeFunction('convertToInteractive',\n",
              "                                                     [key], {});\n",
              "          if (!dataTable) return;\n",
              "\n",
              "          const docLinkHtml = 'Like what you see? Visit the ' +\n",
              "            '<a target=\"_blank\" href=https://colab.research.google.com/notebooks/data_table.ipynb>data table notebook</a>'\n",
              "            + ' to learn more about interactive tables.';\n",
              "          element.innerHTML = '';\n",
              "          dataTable['output_type'] = 'display_data';\n",
              "          await google.colab.output.renderOutput(dataTable, element);\n",
              "          const docLink = document.createElement('div');\n",
              "          docLink.innerHTML = docLinkHtml;\n",
              "          element.appendChild(docLink);\n",
              "        }\n",
              "      </script>\n",
              "    </div>\n",
              "  </div>\n",
              "  "
            ]
          },
          "metadata": {},
          "execution_count": 14
        }
      ]
    },
    {
      "cell_type": "code",
      "source": [
        "df4.isnull().sum()"
      ],
      "metadata": {
        "colab": {
          "base_uri": "https://localhost:8080/"
        },
        "id": "6r78IsmS9FgP",
        "outputId": "ffe88d1e-bd26-4e64-e5ad-3fbd46ee4e77"
      },
      "execution_count": 15,
      "outputs": [
        {
          "output_type": "execute_result",
          "data": {
            "text/plain": [
              "State        0\n",
              "Year         0\n",
              "Quarter      0\n",
              "Districts    0\n",
              "Count        0\n",
              "Amount       0\n",
              "dtype: int64"
            ]
          },
          "metadata": {},
          "execution_count": 15
        }
      ]
    },
    {
      "cell_type": "code",
      "source": [
        "path=\"/content/pulse/data/top/user/country/india/state/\"\n",
        "top_state_list=os.listdir(path)\n",
        "top_state_list\n",
        "\n",
        "clm6={'State':[], 'Year':[],'Quarter':[],'Districts':[], 'Users':[]}\n",
        "for i in top_state_list:\n",
        "    p_i=path+i+\"/\"\n",
        "    top_yr=os.listdir(p_i)    \n",
        "    for j in top_yr:\n",
        "        p_j=p_i+j+\"/\"\n",
        "        top_yr_list=os.listdir(p_j)        \n",
        "        for k in top_yr_list:\n",
        "            p_k=p_j+k\n",
        "            with open(p_k, 'r') as file:\n",
        "                D=json.load(file)\n",
        "            for z in D['data']['districts']:\n",
        "              Name=z['name']\n",
        "              count=z['registeredUsers']\n",
        "              clm6['Districts'].append(Name)\n",
        "              clm6['Users'].append(count)\n",
        "              clm6['State'].append(i)\n",
        "              clm6['Year'].append(j)\n",
        "              clm6['Quarter'].append(int(k.strip('.json')))\n",
        "\n",
        "df5 = pd.DataFrame(clm6)\n",
        "df5.head()"
      ],
      "metadata": {
        "id": "S87fWCxUlcmg",
        "colab": {
          "base_uri": "https://localhost:8080/",
          "height": 206
        },
        "outputId": "c5d0d522-404d-49db-c372-46d01dad69f8"
      },
      "execution_count": 16,
      "outputs": [
        {
          "output_type": "execute_result",
          "data": {
            "text/plain": [
              "          State  Year  Quarter       Districts   Users\n",
              "0  chhattisgarh  2018        4          raipur  289198\n",
              "1  chhattisgarh  2018        4            durg  185746\n",
              "2  chhattisgarh  2018        4        bilaspur  153972\n",
              "3  chhattisgarh  2018        4         raigarh  116785\n",
              "4  chhattisgarh  2018        4  janjgir champa  107156"
            ],
            "text/html": [
              "\n",
              "  <div id=\"df-e701971f-a9f2-460e-9188-d0b536866ce3\">\n",
              "    <div class=\"colab-df-container\">\n",
              "      <div>\n",
              "<style scoped>\n",
              "    .dataframe tbody tr th:only-of-type {\n",
              "        vertical-align: middle;\n",
              "    }\n",
              "\n",
              "    .dataframe tbody tr th {\n",
              "        vertical-align: top;\n",
              "    }\n",
              "\n",
              "    .dataframe thead th {\n",
              "        text-align: right;\n",
              "    }\n",
              "</style>\n",
              "<table border=\"1\" class=\"dataframe\">\n",
              "  <thead>\n",
              "    <tr style=\"text-align: right;\">\n",
              "      <th></th>\n",
              "      <th>State</th>\n",
              "      <th>Year</th>\n",
              "      <th>Quarter</th>\n",
              "      <th>Districts</th>\n",
              "      <th>Users</th>\n",
              "    </tr>\n",
              "  </thead>\n",
              "  <tbody>\n",
              "    <tr>\n",
              "      <th>0</th>\n",
              "      <td>chhattisgarh</td>\n",
              "      <td>2018</td>\n",
              "      <td>4</td>\n",
              "      <td>raipur</td>\n",
              "      <td>289198</td>\n",
              "    </tr>\n",
              "    <tr>\n",
              "      <th>1</th>\n",
              "      <td>chhattisgarh</td>\n",
              "      <td>2018</td>\n",
              "      <td>4</td>\n",
              "      <td>durg</td>\n",
              "      <td>185746</td>\n",
              "    </tr>\n",
              "    <tr>\n",
              "      <th>2</th>\n",
              "      <td>chhattisgarh</td>\n",
              "      <td>2018</td>\n",
              "      <td>4</td>\n",
              "      <td>bilaspur</td>\n",
              "      <td>153972</td>\n",
              "    </tr>\n",
              "    <tr>\n",
              "      <th>3</th>\n",
              "      <td>chhattisgarh</td>\n",
              "      <td>2018</td>\n",
              "      <td>4</td>\n",
              "      <td>raigarh</td>\n",
              "      <td>116785</td>\n",
              "    </tr>\n",
              "    <tr>\n",
              "      <th>4</th>\n",
              "      <td>chhattisgarh</td>\n",
              "      <td>2018</td>\n",
              "      <td>4</td>\n",
              "      <td>janjgir champa</td>\n",
              "      <td>107156</td>\n",
              "    </tr>\n",
              "  </tbody>\n",
              "</table>\n",
              "</div>\n",
              "      <button class=\"colab-df-convert\" onclick=\"convertToInteractive('df-e701971f-a9f2-460e-9188-d0b536866ce3')\"\n",
              "              title=\"Convert this dataframe to an interactive table.\"\n",
              "              style=\"display:none;\">\n",
              "        \n",
              "  <svg xmlns=\"http://www.w3.org/2000/svg\" height=\"24px\"viewBox=\"0 0 24 24\"\n",
              "       width=\"24px\">\n",
              "    <path d=\"M0 0h24v24H0V0z\" fill=\"none\"/>\n",
              "    <path d=\"M18.56 5.44l.94 2.06.94-2.06 2.06-.94-2.06-.94-.94-2.06-.94 2.06-2.06.94zm-11 1L8.5 8.5l.94-2.06 2.06-.94-2.06-.94L8.5 2.5l-.94 2.06-2.06.94zm10 10l.94 2.06.94-2.06 2.06-.94-2.06-.94-.94-2.06-.94 2.06-2.06.94z\"/><path d=\"M17.41 7.96l-1.37-1.37c-.4-.4-.92-.59-1.43-.59-.52 0-1.04.2-1.43.59L10.3 9.45l-7.72 7.72c-.78.78-.78 2.05 0 2.83L4 21.41c.39.39.9.59 1.41.59.51 0 1.02-.2 1.41-.59l7.78-7.78 2.81-2.81c.8-.78.8-2.07 0-2.86zM5.41 20L4 18.59l7.72-7.72 1.47 1.35L5.41 20z\"/>\n",
              "  </svg>\n",
              "      </button>\n",
              "      \n",
              "  <style>\n",
              "    .colab-df-container {\n",
              "      display:flex;\n",
              "      flex-wrap:wrap;\n",
              "      gap: 12px;\n",
              "    }\n",
              "\n",
              "    .colab-df-convert {\n",
              "      background-color: #E8F0FE;\n",
              "      border: none;\n",
              "      border-radius: 50%;\n",
              "      cursor: pointer;\n",
              "      display: none;\n",
              "      fill: #1967D2;\n",
              "      height: 32px;\n",
              "      padding: 0 0 0 0;\n",
              "      width: 32px;\n",
              "    }\n",
              "\n",
              "    .colab-df-convert:hover {\n",
              "      background-color: #E2EBFA;\n",
              "      box-shadow: 0px 1px 2px rgba(60, 64, 67, 0.3), 0px 1px 3px 1px rgba(60, 64, 67, 0.15);\n",
              "      fill: #174EA6;\n",
              "    }\n",
              "\n",
              "    [theme=dark] .colab-df-convert {\n",
              "      background-color: #3B4455;\n",
              "      fill: #D2E3FC;\n",
              "    }\n",
              "\n",
              "    [theme=dark] .colab-df-convert:hover {\n",
              "      background-color: #434B5C;\n",
              "      box-shadow: 0px 1px 3px 1px rgba(0, 0, 0, 0.15);\n",
              "      filter: drop-shadow(0px 1px 2px rgba(0, 0, 0, 0.3));\n",
              "      fill: #FFFFFF;\n",
              "    }\n",
              "  </style>\n",
              "\n",
              "      <script>\n",
              "        const buttonEl =\n",
              "          document.querySelector('#df-e701971f-a9f2-460e-9188-d0b536866ce3 button.colab-df-convert');\n",
              "        buttonEl.style.display =\n",
              "          google.colab.kernel.accessAllowed ? 'block' : 'none';\n",
              "\n",
              "        async function convertToInteractive(key) {\n",
              "          const element = document.querySelector('#df-e701971f-a9f2-460e-9188-d0b536866ce3');\n",
              "          const dataTable =\n",
              "            await google.colab.kernel.invokeFunction('convertToInteractive',\n",
              "                                                     [key], {});\n",
              "          if (!dataTable) return;\n",
              "\n",
              "          const docLinkHtml = 'Like what you see? Visit the ' +\n",
              "            '<a target=\"_blank\" href=https://colab.research.google.com/notebooks/data_table.ipynb>data table notebook</a>'\n",
              "            + ' to learn more about interactive tables.';\n",
              "          element.innerHTML = '';\n",
              "          dataTable['output_type'] = 'display_data';\n",
              "          await google.colab.output.renderOutput(dataTable, element);\n",
              "          const docLink = document.createElement('div');\n",
              "          docLink.innerHTML = docLinkHtml;\n",
              "          element.appendChild(docLink);\n",
              "        }\n",
              "      </script>\n",
              "    </div>\n",
              "  </div>\n",
              "  "
            ]
          },
          "metadata": {},
          "execution_count": 16
        }
      ]
    },
    {
      "cell_type": "code",
      "source": [
        "df5.isnull().sum()"
      ],
      "metadata": {
        "colab": {
          "base_uri": "https://localhost:8080/"
        },
        "id": "E0QDlnOA9Z8O",
        "outputId": "c9c4ce62-fc7a-459d-ac00-8c288b38a64e"
      },
      "execution_count": 17,
      "outputs": [
        {
          "output_type": "execute_result",
          "data": {
            "text/plain": [
              "State        0\n",
              "Year         0\n",
              "Quarter      0\n",
              "Districts    0\n",
              "Users        0\n",
              "dtype: int64"
            ]
          },
          "metadata": {},
          "execution_count": 17
        }
      ]
    },
    {
      "cell_type": "code",
      "source": [
        "df3['State'].value_counts()"
      ],
      "metadata": {
        "id": "EegPsBt1hLw7",
        "colab": {
          "base_uri": "https://localhost:8080/"
        },
        "outputId": "6c00cd3d-39bd-413e-d65f-a3c8d295b26d"
      },
      "execution_count": 18,
      "outputs": [
        {
          "output_type": "execute_result",
          "data": {
            "text/plain": [
              "uttar-pradesh                         1500\n",
              "madhya-pradesh                        1040\n",
              "bihar                                  760\n",
              "tamil-nadu                             740\n",
              "maharashtra                            720\n",
              "assam                                  660\n",
              "gujarat                                660\n",
              "rajasthan                              660\n",
              "telangana                              660\n",
              "odisha                                 600\n",
              "karnataka                              600\n",
              "chhattisgarh                           540\n",
              "arunachal-pradesh                      500\n",
              "jharkhand                              480\n",
              "west-bengal                            460\n",
              "jammu-&-kashmir                        440\n",
              "haryana                                440\n",
              "punjab                                 440\n",
              "manipur                                320\n",
              "kerala                                 280\n",
              "andhra-pradesh                         260\n",
              "uttarakhand                            260\n",
              "himachal-pradesh                       240\n",
              "nagaland                               220\n",
              "meghalaya                              220\n",
              "delhi                                  220\n",
              "mizoram                                160\n",
              "tripura                                160\n",
              "puducherry                              80\n",
              "sikkim                                  80\n",
              "dadra-&-nagar-haveli-&-daman-&-diu      60\n",
              "andaman-&-nicobar-islands               60\n",
              "ladakh                                  40\n",
              "goa                                     40\n",
              "chandigarh                              20\n",
              "lakshadweep                             20\n",
              "Name: State, dtype: int64"
            ]
          },
          "metadata": {},
          "execution_count": 18
        }
      ]
    },
    {
      "cell_type": "code",
      "source": [
        "df.to_csv('agg_transaction.csv', index=False)\n",
        "df1.to_csv('agg_user.csv', index=False)\n",
        "df2.to_csv('map_transaction.csv', index=False)\n",
        "df3.to_csv('map_user.csv', index=False)\n",
        "df4.to_csv('top_transaction.csv', index=False)\n",
        "df5.to_csv('top_user.csv', index=False)\n"
      ],
      "metadata": {
        "id": "XSCDNhkEe_VB"
      },
      "execution_count": 19,
      "outputs": []
    },
    {
      "cell_type": "code",
      "source": [
        "import sqlite3"
      ],
      "metadata": {
        "id": "GgrKjeuolcp4"
      },
      "execution_count": 20,
      "outputs": []
    },
    {
      "cell_type": "code",
      "source": [
        "conn = sqlite3.connect('Phonepe_pulse.db')\n",
        "cursor = conn.cursor()"
      ],
      "metadata": {
        "id": "052Q9aTagRz6"
      },
      "execution_count": 21,
      "outputs": []
    },
    {
      "cell_type": "code",
      "source": [
        "cursor.execute(\"\"\"\n",
        "CREATE TABLE agg_transaction(\n",
        "    id INTEGER PRIMARY KEY,\n",
        "    State VARCHAR(255),\n",
        "    Year INT,\n",
        "    Quarter INT,\n",
        "    Transaction_type TEXT,\n",
        "    Transaction_count INTEGER,    \n",
        "    Transaction_amount INT\n",
        ");\n",
        "\"\"\")"
      ],
      "metadata": {
        "id": "eS6OQLQOlcwB"
      },
      "execution_count": null,
      "outputs": []
    },
    {
      "cell_type": "code",
      "source": [
        "# Load the data into a DataFrame\n",
        "df = pd.read_csv(\"agg_transaction.csv\")\n",
        "\n",
        "# Insert the data from the DataFrame into the database\n",
        "df.to_sql(\"agg_transaction\", conn, if_exists=\"replace\", index=False)\n",
        "\n",
        "# Commit the changes\n",
        "conn.commit()"
      ],
      "metadata": {
        "id": "6wLOJT_g_KpE"
      },
      "execution_count": 23,
      "outputs": []
    },
    {
      "cell_type": "code",
      "source": [
        "cursor.execute(\"\"\"\n",
        "CREATE TABLE agg_user(\n",
        "    id INTEGER PRIMARY KEY,\n",
        "    State VARCHAR(255),\n",
        "    Year INT,\n",
        "    Quarter INT,\n",
        "    Brand TEXT,\n",
        "    Count INTEGER,\n",
        "    Percentage FLOAT\n",
        ");\n",
        "\"\"\")\n",
        "\n"
      ],
      "metadata": {
        "id": "TTYDaxFW2qIv"
      },
      "execution_count": null,
      "outputs": []
    },
    {
      "cell_type": "code",
      "source": [
        "# Load the data into a DataFrame\n",
        "df = pd.read_csv(\"agg_user.csv\")\n",
        "\n",
        "# Insert the data from the DataFrame into the database\n",
        "df.to_sql(\"agg_user\", conn, if_exists=\"replace\", index=False)\n",
        "\n",
        "# Commit the changes\n",
        "conn.commit()\n"
      ],
      "metadata": {
        "id": "-VSQEzam_WNN"
      },
      "execution_count": 25,
      "outputs": []
    },
    {
      "cell_type": "code",
      "source": [
        "cursor.execute(\"\"\"\n",
        "CREATE TABLE map_transaction(\n",
        "    id INTEGER PRIMARY KEY,\n",
        "    State VARCHAR(255),\n",
        "    Year INT,\n",
        "    Quarter INT,\n",
        "    District TEXT,\n",
        "    Count INTEGER,\n",
        "    Amount INT\n",
        ");\n",
        "\"\"\")\n"
      ],
      "metadata": {
        "id": "pNpPDyTV3UQP",
        "colab": {
          "base_uri": "https://localhost:8080/"
        },
        "outputId": "6af93257-e398-46e7-ec35-eb3483a98c87"
      },
      "execution_count": null,
      "outputs": [
        {
          "output_type": "execute_result",
          "data": {
            "text/plain": [
              "<sqlite3.Cursor at 0x7f275933fab0>"
            ]
          },
          "metadata": {},
          "execution_count": 25
        }
      ]
    },
    {
      "cell_type": "code",
      "source": [
        "# Load the data into a DataFrame\n",
        "df = pd.read_csv(\"map_transaction.csv\")\n",
        "\n",
        "# Insert the data from the DataFrame into the database\n",
        "df.to_sql(\"map_transaction\", conn, if_exists=\"replace\", index=False)\n",
        "\n",
        "# Commit the changes\n",
        "conn.commit()\n"
      ],
      "metadata": {
        "id": "CGZ8AWSD_3Gy"
      },
      "execution_count": 26,
      "outputs": []
    },
    {
      "cell_type": "code",
      "source": [
        "cursor.execute(\"\"\"\n",
        "CREATE TABLE map_user(\n",
        "    id INTEGER PRIMARY KEY,\n",
        "    State VARCHAR(255),\n",
        "    Year INT,\n",
        "    Quarter INT,\n",
        "    Users INT,\n",
        "    District TEXT\n",
        ");\n",
        "\"\"\")\n"
      ],
      "metadata": {
        "colab": {
          "base_uri": "https://localhost:8080/"
        },
        "id": "kjzb-Ba4AFIZ",
        "outputId": "d140972c-3d71-45ab-ac31-09639c70991f"
      },
      "execution_count": null,
      "outputs": [
        {
          "output_type": "execute_result",
          "data": {
            "text/plain": [
              "<sqlite3.Cursor at 0x7f275933fab0>"
            ]
          },
          "metadata": {},
          "execution_count": 27
        }
      ]
    },
    {
      "cell_type": "code",
      "source": [
        "# Load the data into a DataFrame\n",
        "df = pd.read_csv(\"map_user.csv\")\n",
        "\n",
        "# Insert the data from the DataFrame into the database\n",
        "df.to_sql(\"map_user\", conn, if_exists=\"replace\", index=False)\n",
        "\n",
        "# Commit the changes\n",
        "conn.commit()\n"
      ],
      "metadata": {
        "id": "OfymmdshARjt"
      },
      "execution_count": 27,
      "outputs": []
    },
    {
      "cell_type": "code",
      "source": [
        "cursor.execute(\"\"\"\n",
        "CREATE TABLE top_transaction(\n",
        "    id INTEGER PRIMARY KEY,\n",
        "    State VARCHAR(255),\n",
        "    Year INT,\n",
        "    Quarter INT,\n",
        "    Districts TEXT,\n",
        "    Count INTEGER,\n",
        "    Amount FLOAT\n",
        ");\n",
        "\"\"\")\n"
      ],
      "metadata": {
        "colab": {
          "base_uri": "https://localhost:8080/"
        },
        "id": "p6PHfjVrAXHN",
        "outputId": "1fa47709-82a3-441b-88ed-8908d1ec7130"
      },
      "execution_count": null,
      "outputs": [
        {
          "output_type": "execute_result",
          "data": {
            "text/plain": [
              "<sqlite3.Cursor at 0x7f275933fab0>"
            ]
          },
          "metadata": {},
          "execution_count": 29
        }
      ]
    },
    {
      "cell_type": "code",
      "source": [
        "# Load the data into a DataFrame\n",
        "df = pd.read_csv(\"top_transaction.csv\")\n",
        "\n",
        "# Insert the data from the DataFrame into the database\n",
        "df.to_sql(\"top_transaction\", conn, if_exists=\"replace\", index=False)\n",
        "\n",
        "# Commit the changes\n",
        "conn.commit()"
      ],
      "metadata": {
        "id": "dSEWUj0GAXKQ"
      },
      "execution_count": 28,
      "outputs": []
    },
    {
      "cell_type": "code",
      "source": [
        "cursor.execute(\"\"\"\n",
        "CREATE TABLE top_user(\n",
        "    id INTEGER PRIMARY KEY,\n",
        "    State VARCHAR(255),\n",
        "    Year INT,\n",
        "    Quarter INT,\n",
        "    Districts TEXT,\n",
        "    Users INT\n",
        ");\n",
        "\"\"\")\n"
      ],
      "metadata": {
        "colab": {
          "base_uri": "https://localhost:8080/"
        },
        "id": "LFG3iSPXAXNI",
        "outputId": "4096bab1-52d2-4f21-eb3a-3d85c8c8e9a4"
      },
      "execution_count": null,
      "outputs": [
        {
          "output_type": "execute_result",
          "data": {
            "text/plain": [
              "<sqlite3.Cursor at 0x7f275933fab0>"
            ]
          },
          "metadata": {},
          "execution_count": 31
        }
      ]
    },
    {
      "cell_type": "code",
      "source": [
        "# Load the data into a DataFrame\n",
        "df = pd.read_csv(\"top_user.csv\")\n",
        "\n",
        "# Insert the data from the DataFrame into the database\n",
        "df.to_sql(\"top_user\", conn, if_exists=\"replace\", index=False)\n",
        "\n",
        "# Commit the changes\n",
        "conn.commit()"
      ],
      "metadata": {
        "id": "dex1RnNmAXQE"
      },
      "execution_count": 29,
      "outputs": []
    },
    {
      "cell_type": "code",
      "source": [
        "import streamlit as st\n",
        "import requests"
      ],
      "metadata": {
        "id": "0M2hS3OJXpJU"
      },
      "execution_count": 48,
      "outputs": []
    },
    {
      "cell_type": "code",
      "source": [
        "conn = sqlite3.connect('Phonepe_pulse.db')\n",
        "cursor = conn.cursor()\n",
        "st.sidebar.title(\"Filter\")\n",
        "user = st.sidebar.selectbox(\n",
        "    \"Select All India or State\",\n",
        "    (\"All India\",\"State\")\n",
        ")\n",
        "if(user == \"All India\"):\n",
        "  trans_r_user = st.sidebar.selectbox(\n",
        "      \"Transaction or User Detail\",\n",
        "      (\"Transaction\", \"User Detail\")\n",
        "  )\n",
        "  \n",
        "  Year = st.sidebar.selectbox(\n",
        "      \"Year\",(\"2018\",\"2019\",\"2020\",\"2021\",\"2022\")\n",
        "  )\n",
        "  Quater = st.sidebar.radio(\n",
        "      \"Quater\",(\"Q1\",\"Q2\",\"Q3\",\"Q4\")\n",
        "  )\n",
        "else:\n",
        "  State=st.sidebar.selectbox(\n",
        "      'Select State Name',\n",
        "      (\n",
        "        'Arunachal pradesh',\n",
        "       'Assam','Bihar','Chandigarh','Chhattisgarh',\n",
        "       'Delhi','Goa','Gujarat','Haryana','Himachal pradesh',\n",
        "       'Jharkhand','Karnataka','Kerala','Ladakh','Lakshadweep',\n",
        "       'Madhya pradesh','Maharashtra','Manipur','Meghalaya',\n",
        "       'Mizoram','Nagaland','Odisha','Puducherry','Punjab',\n",
        "       'Rajasthan','Sikkim','Tamil nadu','Telangana',\n",
        "       'Tripura','Uttar pradesh','Uttarakhand','West bengal'\n",
        "       )\n",
        "  )\n",
        "  trans_r_user = st.sidebar.selectbox(\n",
        "      'Transaction or User Details',\n",
        "      ('TRANSACTIONS','USER')\n",
        "  )\n",
        "\n",
        "  Year =st.sidebar.selectbox(\n",
        "      'YEAR',\n",
        "      ('2018','2019','2020',\n",
        "       '2021','2022')\n",
        "  )\n",
        "\n",
        "   Quater = st.sidebar.radio(\n",
        "       'QUATER',\n",
        "       ('Q1','Q2','Q3','Q4')\n",
        "   )\n",
        "\n",
        "\n",
        "   st.title(\"PhonePe Pulse\")\n",
        "\n",
        "   Url =\"https://raw.githubusercontent.com/Aravindan79/Phonepe-Data/main/India_States.json\"\n",
        "   resp = requests.get(Url)\n",
        "   India_States =json.load(resp.text)\n",
        "\n"
      ],
      "metadata": {
        "id": "dHTd5Z85TLyZ"
      },
      "execution_count": null,
      "outputs": []
    }
  ]
}